{
 "cells": [
  {
   "cell_type": "code",
   "execution_count": 23,
   "metadata": {},
   "outputs": [],
   "source": [
    "# NEWTEXTLIST = TEXT.lower().split()\n",
    "MUST  = [\"Storia\"]\n",
    "MAYBE = [\"omid\", \"agency\"]\n",
    "\n",
    "def word_searching(text:str, must:list, maybe:list):\n",
    "    COUNT = 0\n",
    "    NEWTEXTLIST = text.lower().split()\n",
    "    MUST  = must\n",
    "    MAYBE = maybe\n",
    "    \n",
    "    for i in MUST:\n",
    "        if i.lower() in NEWTEXTLIST:\n",
    "            COUNT += 1\n",
    "\n",
    "            if COUNT == len(MUST):\n",
    "                if len(MAYBE) == 0: return (COUNT,0)\n",
    "                else:\n",
    "                    JCOUNT = 0\n",
    "                    for j in MAYBE:\n",
    "                        if j.lower() in NEWTEXTLIST: JCOUNT += 1\n",
    "                    \n",
    "                    return (COUNT,JCOUNT)\n",
    "            else: return (0,0)\n",
    "        \n",
    "              "
   ]
  },
  {
   "cell_type": "code",
   "execution_count": 24,
   "metadata": {},
   "outputs": [
    {
     "data": {
      "text/plain": [
       "0    (1, 1)\n",
       "1      None\n",
       "2      None\n",
       "3      None\n",
       "4      None\n",
       "5      None\n",
       "6      None\n",
       "7      None\n",
       "8      None\n",
       "9      None\n",
       "Name: discribe, dtype: object"
      ]
     },
     "execution_count": 24,
     "metadata": {},
     "output_type": "execute_result"
    }
   ],
   "source": [
    "import pandas as pd\n",
    "\n",
    "\n",
    "df = pd.read_csv(\"job_info.csv\",names=[\"discribe\",\"SL\",\"workType\"])\n",
    "df[\"discribe\"].apply(lambda x: word_searching(x, MUST, MAYBE))\n",
    "# df"
   ]
  }
 ],
 "metadata": {
  "kernelspec": {
   "display_name": "Python 3",
   "language": "python",
   "name": "python3"
  },
  "language_info": {
   "codemirror_mode": {
    "name": "ipython",
    "version": 3
   },
   "file_extension": ".py",
   "mimetype": "text/x-python",
   "name": "python",
   "nbconvert_exporter": "python",
   "pygments_lexer": "ipython3",
   "version": "3.11.1"
  }
 },
 "nbformat": 4,
 "nbformat_minor": 2
}
